{
  "nbformat": 4,
  "nbformat_minor": 0,
  "metadata": {
    "colab": {
      "name": "Challenge_2.ipynb",
      "provenance": []
    },
    "kernelspec": {
      "name": "python3",
      "display_name": "Python 3"
    },
    "language_info": {
      "name": "python"
    }
  },
  "cells": [
    {
      "cell_type": "code",
      "metadata": {
        "id": "-QgdUeMEQ0mP",
        "colab": {
          "base_uri": "https://localhost:8080/"
        },
        "outputId": "fdd5f4c6-f3ad-4272-956f-9de6e0270e91"
      },
      "source": [
        "from google.colab import drive\n",
        "drive.mount('/content/drive')"
      ],
      "execution_count": null,
      "outputs": [
        {
          "output_type": "stream",
          "text": [
            "Mounted at /content/drive\n"
          ],
          "name": "stdout"
        }
      ]
    },
    {
      "cell_type": "code",
      "metadata": {
        "colab": {
          "base_uri": "https://localhost:8080/"
        },
        "id": "13OoewxIwYs3",
        "outputId": "1d0de555-e133-4004-b2d7-bad18911d693"
      },
      "source": [
        "%cd '/content/drive/My Drive/Colab Notebooks/db'\n",
        "!ls"
      ],
      "execution_count": null,
      "outputs": [
        {
          "output_type": "stream",
          "text": [
            "/content/drive/My Drive/Colab Notebooks/db\n",
            "API_19_DS2_en_csv_v2_1926515.csv\t\t groups_sitc_rev2.csv\n",
            "API_AG.LND.AGRI.K2_DS2_en_csv_v2_1927122.csv\t london_merged.csv\n",
            "API_AG.LND.FRST.K2_DS2_en_csv_v2_1927168.csv\t Meteorite_Landings.csv\n",
            "API_EG.USE.ELEC.KH.PC_DS2_en_csv_v2_1927784.csv  poblacion.csv\n",
            "API_EN.ATM.CO2E.KT_DS2_en_csv_v2_1926651.csv\t products.json\n",
            "API_SP.POP.TOTL_DS2_en_csv_v2_1976634.csv\t products_sitc_rev2.csv\n",
            "colombia_exports.csv\t\t\t\t test.csv\n",
            "colombia_imports.csv\t\t\t\t text.hdf\n",
            "cotizacion.csv\t\t\t\t\t text.json\n",
            "country_names.csv\t\t\t\t text.parquet\n",
            "covid_19_data.csv\t\t\t\t text.pkl\n",
            "diabetes.csv\t\t\t\t\t text.xlsx\n",
            "fake-company.csv\t\t\t\t titanic.csv\n",
            "GlobalLandTemperaturesByCountry.csv\t\t year_origin_sitc_rev2.tsv\n",
            "goog-1.csv\n"
          ],
          "name": "stdout"
        }
      ]
    },
    {
      "cell_type": "code",
      "metadata": {
        "id": "_mICLaakwYxD"
      },
      "source": [
        "import pandas as pd\n",
        "import numpy as np"
      ],
      "execution_count": null,
      "outputs": []
    },
    {
      "cell_type": "code",
      "metadata": {
        "id": "r05jL4guwY1Q"
      },
      "source": [
        "df = pd.read_csv('cotizacion.csv', sep = \";\",decimal=',')"
      ],
      "execution_count": null,
      "outputs": []
    },
    {
      "cell_type": "code",
      "metadata": {
        "id": "-XJP3feTwY46"
      },
      "source": [
        "df_cotizacion = df.copy(deep=True)"
      ],
      "execution_count": null,
      "outputs": []
    },
    {
      "cell_type": "code",
      "metadata": {
        "colab": {
          "base_uri": "https://localhost:8080/",
          "height": 197
        },
        "id": "mSvyTej_wY8E",
        "outputId": "0c4440e3-2f48-41d3-e9c1-5f39881ccd41"
      },
      "source": [
        "df_cotizacion.head()"
      ],
      "execution_count": null,
      "outputs": [
        {
          "output_type": "execute_result",
          "data": {
            "text/html": [
              "<div>\n",
              "<style scoped>\n",
              "    .dataframe tbody tr th:only-of-type {\n",
              "        vertical-align: middle;\n",
              "    }\n",
              "\n",
              "    .dataframe tbody tr th {\n",
              "        vertical-align: top;\n",
              "    }\n",
              "\n",
              "    .dataframe thead th {\n",
              "        text-align: right;\n",
              "    }\n",
              "</style>\n",
              "<table border=\"1\" class=\"dataframe\">\n",
              "  <thead>\n",
              "    <tr style=\"text-align: right;\">\n",
              "      <th></th>\n",
              "      <th>Nombre</th>\n",
              "      <th>Final</th>\n",
              "      <th>Máximo</th>\n",
              "      <th>Mínimo</th>\n",
              "      <th>Volumen</th>\n",
              "      <th>Efectivo</th>\n",
              "    </tr>\n",
              "  </thead>\n",
              "  <tbody>\n",
              "    <tr>\n",
              "      <th>0</th>\n",
              "      <td>ACCIONA</td>\n",
              "      <td>95.95</td>\n",
              "      <td>96.75</td>\n",
              "      <td>94.40</td>\n",
              "      <td>84.962</td>\n",
              "      <td>8166.11</td>\n",
              "    </tr>\n",
              "    <tr>\n",
              "      <th>1</th>\n",
              "      <td>ACERINOX</td>\n",
              "      <td>8668.00</td>\n",
              "      <td>8672.00</td>\n",
              "      <td>8468.00</td>\n",
              "      <td>885.99</td>\n",
              "      <td>7633.81</td>\n",
              "    </tr>\n",
              "    <tr>\n",
              "      <th>2</th>\n",
              "      <td>ACS</td>\n",
              "      <td>37.28</td>\n",
              "      <td>37.66</td>\n",
              "      <td>37.22</td>\n",
              "      <td>655.982</td>\n",
              "      <td>24517.29</td>\n",
              "    </tr>\n",
              "    <tr>\n",
              "      <th>3</th>\n",
              "      <td>AENA</td>\n",
              "      <td>167.10</td>\n",
              "      <td>167.50</td>\n",
              "      <td>166.10</td>\n",
              "      <td>133.738</td>\n",
              "      <td>22336.10</td>\n",
              "    </tr>\n",
              "    <tr>\n",
              "      <th>4</th>\n",
              "      <td>AMADEUS</td>\n",
              "      <td>69.96</td>\n",
              "      <td>70.64</td>\n",
              "      <td>69.56</td>\n",
              "      <td>640.476</td>\n",
              "      <td>44795.47</td>\n",
              "    </tr>\n",
              "  </tbody>\n",
              "</table>\n",
              "</div>"
            ],
            "text/plain": [
              "     Nombre    Final   Máximo   Mínimo  Volumen  Efectivo\n",
              "0   ACCIONA    95.95    96.75    94.40   84.962   8166.11\n",
              "1  ACERINOX  8668.00  8672.00  8468.00   885.99   7633.81\n",
              "2       ACS    37.28    37.66    37.22  655.982  24517.29\n",
              "3      AENA   167.10   167.50   166.10  133.738  22336.10\n",
              "4   AMADEUS    69.96    70.64    69.56  640.476  44795.47"
            ]
          },
          "metadata": {
            "tags": []
          },
          "execution_count": 24
        }
      ]
    },
    {
      "cell_type": "code",
      "metadata": {
        "colab": {
          "base_uri": "https://localhost:8080/"
        },
        "id": "_hkCNhVqwY_d",
        "outputId": "0b852328-8dfa-428b-ea6f-89176d774702"
      },
      "source": [
        "df_cotizacion.info()"
      ],
      "execution_count": null,
      "outputs": [
        {
          "output_type": "stream",
          "text": [
            "<class 'pandas.core.frame.DataFrame'>\n",
            "RangeIndex: 35 entries, 0 to 34\n",
            "Data columns (total 6 columns):\n",
            " #   Column    Non-Null Count  Dtype  \n",
            "---  ------    --------------  -----  \n",
            " 0   Nombre    35 non-null     object \n",
            " 1   Final     35 non-null     float64\n",
            " 2   Máximo    35 non-null     float64\n",
            " 3   Mínimo    35 non-null     float64\n",
            " 4   Volumen   35 non-null     object \n",
            " 5   Efectivo  35 non-null     float64\n",
            "dtypes: float64(4), object(2)\n",
            "memory usage: 1.8+ KB\n"
          ],
          "name": "stdout"
        }
      ]
    },
    {
      "cell_type": "code",
      "metadata": {
        "id": "F_tSz0KbwZEL"
      },
      "source": [
        "df_cotizacion['Volumen']=df_cotizacion['Volumen'].apply(columnVolumn).astype(float)"
      ],
      "execution_count": null,
      "outputs": []
    },
    {
      "cell_type": "code",
      "metadata": {
        "id": "3CTouY4FwZIZ"
      },
      "source": [
        "def columnVolumn(x):  \n",
        "  y = x.split('.')\n",
        "  if len(x.split('.')) > 2:\n",
        "    return y[0]+y[1]+'.'+y[2]\n",
        "  else:\n",
        "    return y[0] + '.'+y[1]"
      ],
      "execution_count": null,
      "outputs": []
    },
    {
      "cell_type": "code",
      "metadata": {
        "colab": {
          "base_uri": "https://localhost:8080/"
        },
        "id": "4ezXq_WS1nNg",
        "outputId": "e55ae46f-0167-4e28-b6fa-6f6061239b16"
      },
      "source": [
        "df_cotizacion.info()"
      ],
      "execution_count": null,
      "outputs": [
        {
          "output_type": "stream",
          "text": [
            "<class 'pandas.core.frame.DataFrame'>\n",
            "RangeIndex: 35 entries, 0 to 34\n",
            "Data columns (total 6 columns):\n",
            " #   Column    Non-Null Count  Dtype  \n",
            "---  ------    --------------  -----  \n",
            " 0   Nombre    35 non-null     object \n",
            " 1   Final     35 non-null     float64\n",
            " 2   Máximo    35 non-null     float64\n",
            " 3   Mínimo    35 non-null     float64\n",
            " 4   Volumen   35 non-null     float64\n",
            " 5   Efectivo  35 non-null     float64\n",
            "dtypes: float64(5), object(1)\n",
            "memory usage: 1.8+ KB\n"
          ],
          "name": "stdout"
        }
      ]
    },
    {
      "cell_type": "code",
      "metadata": {
        "colab": {
          "base_uri": "https://localhost:8080/",
          "height": 287
        },
        "id": "IvH9qATb5W8B",
        "outputId": "5edf1c54-8823-421b-f7c6-196b027e38fd"
      },
      "source": [
        "df_cotizacion.describe()"
      ],
      "execution_count": null,
      "outputs": [
        {
          "output_type": "execute_result",
          "data": {
            "text/html": [
              "<div>\n",
              "<style scoped>\n",
              "    .dataframe tbody tr th:only-of-type {\n",
              "        vertical-align: middle;\n",
              "    }\n",
              "\n",
              "    .dataframe tbody tr th {\n",
              "        vertical-align: top;\n",
              "    }\n",
              "\n",
              "    .dataframe thead th {\n",
              "        text-align: right;\n",
              "    }\n",
              "</style>\n",
              "<table border=\"1\" class=\"dataframe\">\n",
              "  <thead>\n",
              "    <tr style=\"text-align: right;\">\n",
              "      <th></th>\n",
              "      <th>Final</th>\n",
              "      <th>Máximo</th>\n",
              "      <th>Mínimo</th>\n",
              "      <th>Volumen</th>\n",
              "      <th>Efectivo</th>\n",
              "    </tr>\n",
              "  </thead>\n",
              "  <tbody>\n",
              "    <tr>\n",
              "      <th>count</th>\n",
              "      <td>35.000000</td>\n",
              "      <td>35.000000</td>\n",
              "      <td>35.000000</td>\n",
              "      <td>35.000000</td>\n",
              "      <td>35.000000</td>\n",
              "    </tr>\n",
              "    <tr>\n",
              "      <th>mean</th>\n",
              "      <td>2796.768757</td>\n",
              "      <td>3170.113357</td>\n",
              "      <td>3136.510471</td>\n",
              "      <td>4324.351029</td>\n",
              "      <td>31767.778000</td>\n",
              "    </tr>\n",
              "    <tr>\n",
              "      <th>std</th>\n",
              "      <td>5007.267143</td>\n",
              "      <td>5160.834249</td>\n",
              "      <td>4804.485259</td>\n",
              "      <td>7864.205244</td>\n",
              "      <td>38100.607064</td>\n",
              "    </tr>\n",
              "    <tr>\n",
              "      <th>min</th>\n",
              "      <td>1.016500</td>\n",
              "      <td>4.067500</td>\n",
              "      <td>1.016500</td>\n",
              "      <td>67.710000</td>\n",
              "      <td>2343.090000</td>\n",
              "    </tr>\n",
              "    <tr>\n",
              "      <th>25%</th>\n",
              "      <td>17.970000</td>\n",
              "      <td>23.115000</td>\n",
              "      <td>22.700000</td>\n",
              "      <td>663.867500</td>\n",
              "      <td>8114.620000</td>\n",
              "    </tr>\n",
              "    <tr>\n",
              "      <th>50%</th>\n",
              "      <td>30.170000</td>\n",
              "      <td>49.120000</td>\n",
              "      <td>48.460000</td>\n",
              "      <td>1236.799000</td>\n",
              "      <td>16787.550000</td>\n",
              "    </tr>\n",
              "    <tr>\n",
              "      <th>75%</th>\n",
              "      <td>3322.500000</td>\n",
              "      <td>5283.000000</td>\n",
              "      <td>5869.000000</td>\n",
              "      <td>2836.005500</td>\n",
              "      <td>40447.635000</td>\n",
              "    </tr>\n",
              "    <tr>\n",
              "      <th>max</th>\n",
              "      <td>19705.000000</td>\n",
              "      <td>19875.000000</td>\n",
              "      <td>19675.000000</td>\n",
              "      <td>36129.692000</td>\n",
              "      <td>145765.440000</td>\n",
              "    </tr>\n",
              "  </tbody>\n",
              "</table>\n",
              "</div>"
            ],
            "text/plain": [
              "              Final        Máximo        Mínimo       Volumen       Efectivo\n",
              "count     35.000000     35.000000     35.000000     35.000000      35.000000\n",
              "mean    2796.768757   3170.113357   3136.510471   4324.351029   31767.778000\n",
              "std     5007.267143   5160.834249   4804.485259   7864.205244   38100.607064\n",
              "min        1.016500      4.067500      1.016500     67.710000    2343.090000\n",
              "25%       17.970000     23.115000     22.700000    663.867500    8114.620000\n",
              "50%       30.170000     49.120000     48.460000   1236.799000   16787.550000\n",
              "75%     3322.500000   5283.000000   5869.000000   2836.005500   40447.635000\n",
              "max    19705.000000  19875.000000  19675.000000  36129.692000  145765.440000"
            ]
          },
          "metadata": {
            "tags": []
          },
          "execution_count": 83
        }
      ]
    },
    {
      "cell_type": "code",
      "metadata": {
        "id": "GHKrZzYv5XFu"
      },
      "source": [
        ""
      ],
      "execution_count": null,
      "outputs": []
    }
  ]
}